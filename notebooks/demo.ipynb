{
 "cells": [
  {
   "cell_type": "markdown",
   "metadata": {},
   "source": [
    "# SciSweeper class"
   ]
  },
  {
   "cell_type": "code",
   "execution_count": 2,
   "metadata": {
    "ExecuteTime": {
     "end_time": "2019-07-19T12:59:23.075391Z",
     "start_time": "2019-07-19T12:59:22.853339Z"
    }
   },
   "outputs": [
    {
     "ename": "ModuleNotFoundError",
     "evalue": "No module named 'scisweeper'",
     "output_type": "error",
     "traceback": [
      "\u001b[0;31m---------------------------------------------------------------------------\u001b[0m",
      "\u001b[0;31mModuleNotFoundError\u001b[0m                       Traceback (most recent call last)",
      "\u001b[0;32m<ipython-input-2-09f4593ea07d>\u001b[0m in \u001b[0;36m<module>\u001b[0;34m\u001b[0m\n\u001b[0;32m----> 1\u001b[0;31m \u001b[0;32mfrom\u001b[0m \u001b[0mscisweeper\u001b[0m \u001b[0;32mimport\u001b[0m \u001b[0mSciSweeper\u001b[0m\u001b[0;34m\u001b[0m\u001b[0;34m\u001b[0m\u001b[0m\n\u001b[0m",
      "\u001b[0;31mModuleNotFoundError\u001b[0m: No module named 'scisweeper'"
     ]
    }
   ],
   "source": [
    "from scisweeper import SciSweeper"
   ]
  },
  {
   "cell_type": "markdown",
   "metadata": {},
   "source": [
    "# User defined class"
   ]
  },
  {
   "cell_type": "code",
   "execution_count": null,
   "metadata": {
    "ExecuteTime": {
     "end_time": "2019-07-19T12:59:23.123145Z",
     "start_time": "2019-07-19T12:59:22.051Z"
    }
   },
   "outputs": [],
   "source": [
    "ssw = SciSweeper(working_directory='.')"
   ]
  },
  {
   "cell_type": "code",
   "execution_count": null,
   "metadata": {
    "ExecuteTime": {
     "end_time": "2019-07-19T12:59:23.135434Z",
     "start_time": "2019-07-19T12:59:22.064Z"
    }
   },
   "outputs": [],
   "source": [
    "class BashSciSweeper(ssw.job):\n",
    "    @property\n",
    "    def executable(self): \n",
    "        return 'bash /Users/jan/pyiron/projects/2019-07-17-scisweeper/test.sh'\n",
    "    \n",
    "    @staticmethod\n",
    "    def write_input(input_dict, working_directory='.'): \n",
    "        import os\n",
    "        from jinja2 import Template\n",
    "        template = Template(\"{{value_1}} {{value_2}} {{value_3}}\")\n",
    "        template_str = template.render(value_1=input_dict['value_1'],\n",
    "                                       value_2=input_dict['value_2'],\n",
    "                                       value_3=input_dict['value_3'])\n",
    "        with open(os.path.join(working_directory, 'input_file'), 'w') as f:\n",
    "            f.writelines(template_str)\n",
    "\n",
    "    @staticmethod\n",
    "    def collect_output(working_directory='.'):\n",
    "        import os\n",
    "        with open(os.path.join(working_directory, 'output.log'), 'r') as f:\n",
    "            output = f.readlines()\n",
    "        return {'result': int(output[-1])}"
   ]
  },
  {
   "cell_type": "code",
   "execution_count": null,
   "metadata": {
    "ExecuteTime": {
     "end_time": "2019-07-19T12:59:23.164628Z",
     "start_time": "2019-07-19T12:59:22.074Z"
    }
   },
   "outputs": [],
   "source": [
    "ssw.job_class = BashSciSweeper"
   ]
  },
  {
   "cell_type": "markdown",
   "metadata": {},
   "source": [
    "# Iterate over a given parameter range "
   ]
  },
  {
   "cell_type": "code",
   "execution_count": null,
   "metadata": {
    "ExecuteTime": {
     "end_time": "2019-07-19T12:59:23.196065Z",
     "start_time": "2019-07-19T12:59:22.078Z"
    }
   },
   "outputs": [],
   "source": [
    "input_lst = []\n",
    "for i in range(3):\n",
    "    for j in range(3):\n",
    "        for k in range(3):\n",
    "            input_lst.append({'value_1': i, 'value_2': j, 'value_3': k})"
   ]
  },
  {
   "cell_type": "markdown",
   "metadata": {},
   "source": [
    "# Custom job name - optional"
   ]
  },
  {
   "cell_type": "code",
   "execution_count": null,
   "metadata": {
    "ExecuteTime": {
     "end_time": "2019-07-19T12:59:23.206741Z",
     "start_time": "2019-07-19T12:59:22.082Z"
    }
   },
   "outputs": [],
   "source": [
    "def job_name(input_dict, counter):\n",
    "    return 'job_' + str(counter) + '_' + str(input_dict['value_1'])"
   ]
  },
  {
   "cell_type": "code",
   "execution_count": null,
   "metadata": {
    "ExecuteTime": {
     "end_time": "2019-07-19T12:59:23.211208Z",
     "start_time": "2019-07-19T12:59:22.087Z"
    }
   },
   "outputs": [],
   "source": [
    "ssw.job_name_function = job_name"
   ]
  },
  {
   "cell_type": "markdown",
   "metadata": {},
   "source": [
    "# Execute jobs in parallel"
   ]
  },
  {
   "cell_type": "code",
   "execution_count": null,
   "metadata": {
    "ExecuteTime": {
     "end_time": "2019-07-19T12:59:23.214139Z",
     "start_time": "2019-07-19T12:59:22.092Z"
    }
   },
   "outputs": [],
   "source": [
    "ssw.run_jobs_in_parallel(input_dict_lst=input_lst, cores=2)"
   ]
  },
  {
   "cell_type": "markdown",
   "metadata": {},
   "source": [
    "# Collect results "
   ]
  },
  {
   "cell_type": "code",
   "execution_count": null,
   "metadata": {
    "ExecuteTime": {
     "end_time": "2019-07-19T12:59:23.218690Z",
     "start_time": "2019-07-19T12:59:22.096Z"
    }
   },
   "outputs": [],
   "source": [
    "ssw.collect()"
   ]
  },
  {
   "cell_type": "code",
   "execution_count": null,
   "metadata": {
    "ExecuteTime": {
     "end_time": "2019-07-19T12:59:23.221423Z",
     "start_time": "2019-07-19T12:59:22.103Z"
    }
   },
   "outputs": [],
   "source": [
    "ssw.results"
   ]
  },
  {
   "cell_type": "markdown",
   "metadata": {},
   "source": [
    "# Update output parser function - without running the simulation again"
   ]
  },
  {
   "cell_type": "code",
   "execution_count": null,
   "metadata": {
    "ExecuteTime": {
     "end_time": "2019-07-19T12:59:23.236144Z",
     "start_time": "2019-07-19T12:59:22.108Z"
    }
   },
   "outputs": [],
   "source": [
    "class BashSciSweeper2(ssw.job):\n",
    "    @staticmethod\n",
    "    def collect_output(working_directory='.'):\n",
    "        with open(os.path.join(working_directory, 'output.log'), 'r') as f:\n",
    "            output = f.readlines()\n",
    "        return {'result': int(output[0])}"
   ]
  },
  {
   "cell_type": "code",
   "execution_count": null,
   "metadata": {
    "ExecuteTime": {
     "end_time": "2019-07-19T12:59:23.244970Z",
     "start_time": "2019-07-19T12:59:22.113Z"
    }
   },
   "outputs": [],
   "source": [
    "ssw.job_class = BashSciSweeper2"
   ]
  },
  {
   "cell_type": "code",
   "execution_count": null,
   "metadata": {
    "ExecuteTime": {
     "end_time": "2019-07-19T12:59:23.252989Z",
     "start_time": "2019-07-19T12:59:22.119Z"
    }
   },
   "outputs": [],
   "source": [
    "ssw.run_collect_output()"
   ]
  },
  {
   "cell_type": "code",
   "execution_count": null,
   "metadata": {
    "ExecuteTime": {
     "end_time": "2019-07-19T12:59:23.273964Z",
     "start_time": "2019-07-19T12:59:22.129Z"
    }
   },
   "outputs": [],
   "source": [
    "ssw.results"
   ]
  },
  {
   "cell_type": "markdown",
   "metadata": {},
   "source": [
    "# Identify broken calculation"
   ]
  },
  {
   "cell_type": "code",
   "execution_count": null,
   "metadata": {
    "ExecuteTime": {
     "end_time": "2019-07-19T12:59:23.277362Z",
     "start_time": "2019-07-19T12:59:22.137Z"
    }
   },
   "outputs": [],
   "source": [
    "class BashSciSweeper3(ssw.job):\n",
    "    @staticmethod\n",
    "    def collect_output(working_directory='.'):\n",
    "        with open(os.path.join(working_directory, 'output.log'), 'r') as f:\n",
    "            output = f.readlines()\n",
    "        if int(output[0]) == 1:\n",
    "            return {}\n",
    "        else:\n",
    "            return {'result': int(output[0])}"
   ]
  },
  {
   "cell_type": "code",
   "execution_count": null,
   "metadata": {
    "ExecuteTime": {
     "end_time": "2019-07-19T12:59:23.280022Z",
     "start_time": "2019-07-19T12:59:22.140Z"
    }
   },
   "outputs": [],
   "source": [
    "ssw.job_class = BashSciSweeper3"
   ]
  },
  {
   "cell_type": "code",
   "execution_count": null,
   "metadata": {
    "ExecuteTime": {
     "end_time": "2019-07-19T12:59:23.282586Z",
     "start_time": "2019-07-19T12:59:22.145Z"
    }
   },
   "outputs": [],
   "source": [
    "ssw.run_collect_output()"
   ]
  },
  {
   "cell_type": "code",
   "execution_count": null,
   "metadata": {
    "ExecuteTime": {
     "end_time": "2019-07-19T12:59:23.288625Z",
     "start_time": "2019-07-19T12:59:22.153Z"
    }
   },
   "outputs": [],
   "source": [
    "ssw.collect()"
   ]
  },
  {
   "cell_type": "code",
   "execution_count": null,
   "metadata": {
    "ExecuteTime": {
     "end_time": "2019-07-19T12:59:23.291454Z",
     "start_time": "2019-07-19T12:59:22.159Z"
    }
   },
   "outputs": [],
   "source": [
    "ssw.results"
   ]
  },
  {
   "cell_type": "code",
   "execution_count": null,
   "metadata": {
    "ExecuteTime": {
     "end_time": "2019-07-19T12:59:23.296474Z",
     "start_time": "2019-07-19T12:59:22.163Z"
    }
   },
   "outputs": [],
   "source": [
    "ssw.broken_jobs"
   ]
  },
  {
   "cell_type": "code",
   "execution_count": null,
   "metadata": {},
   "outputs": [],
   "source": []
  }
 ],
 "metadata": {
  "kernelspec": {
   "display_name": "Python 3",
   "language": "python",
   "name": "python3"
  },
  "language_info": {
   "codemirror_mode": {
    "name": "ipython",
    "version": 3
   },
   "file_extension": ".py",
   "mimetype": "text/x-python",
   "name": "python",
   "nbconvert_exporter": "python",
   "pygments_lexer": "ipython3",
   "version": "3.7.3"
  },
  "toc": {
   "base_numbering": 1,
   "nav_menu": {},
   "number_sections": true,
   "sideBar": true,
   "skip_h1_title": false,
   "title_cell": "Table of Contents",
   "title_sidebar": "Contents",
   "toc_cell": false,
   "toc_position": {},
   "toc_section_display": true,
   "toc_window_display": false
  }
 },
 "nbformat": 4,
 "nbformat_minor": 2
}
